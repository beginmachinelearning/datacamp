{
 "cells": [
  {
   "cell_type": "code",
   "execution_count": null,
   "metadata": {},
   "outputs": [],
   "source": [
    "# Compute ECDF for versicolor data: x_vers, y_vers\n",
    "#____, ____ = ____(____)\n",
    "ecdf_val=ecdf(versicolor_petal_length)\n",
    "x_vers=ecdf_val[0]\n",
    "y_vers=ecdf_val[1]\n",
    "\n",
    "ecdf_val=ecdf(setosa_petal_length)\n",
    "x_set=ecdf_val[0]\n",
    "y_set=ecdf_val[1]\n",
    "\n",
    "ecdf_val=ecdf(virginica_petal_length)\n",
    "x_virg=ecdf_val[0]\n",
    "y_virg=ecdf_val[1]\n",
    "# Generate plot\n",
    "_=plt.plot(x_set, y_set, marker='.', linestyle='none')\n",
    "_=plt.plot(x_vers, y_vers, marker='.', linestyle='none')\n",
    "\n",
    "_=plt.plot(x_virg, y_virg, marker='.', linestyle='none')\n",
    "_=plt.xlabel('Petal length')\n",
    "_=plt.ylabel('ECDF')\n",
    "plt.show()\n",
    "# Label the axes\n",
    "\n",
    "\n",
    "\n",
    "# Display the plot\n",
    "\n",
    "\n",
    "\n",
    "\n",
    "# Annotate the plot\n",
    "plt.legend(('setosa', 'versicolor', 'virginica'), loc='lower right')\n",
    "_ = plt.xlabel('petal length (cm)')\n",
    "_ = plt.ylabel('ECDF')\n",
    "\n",
    "# Display the plot\n",
    "plt.show()"
   ]
  }
 ],
 "metadata": {
  "kernelspec": {
   "display_name": "Python 2",
   "language": "python",
   "name": "python2"
  },
  "language_info": {
   "codemirror_mode": {
    "name": "ipython",
    "version": 2
   },
   "file_extension": ".py",
   "mimetype": "text/x-python",
   "name": "python",
   "nbconvert_exporter": "python",
   "pygments_lexer": "ipython2",
   "version": "2.7.14"
  }
 },
 "nbformat": 4,
 "nbformat_minor": 2
}
